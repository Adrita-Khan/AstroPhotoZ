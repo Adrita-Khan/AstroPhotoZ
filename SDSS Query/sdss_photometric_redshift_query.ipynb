{
  "nbformat": 4,
  "nbformat_minor": 0,
  "metadata": {
    "colab": {
      "provenance": []
    },
    "kernelspec": {
      "name": "python3",
      "display_name": "Python 3"
    },
    "language_info": {
      "name": "python"
    }
  },
  "cells": [
    {
      "cell_type": "markdown",
      "source": [
        "This code queries the SDSS database to retrieve and display photometric redshift data for 5000 objects meeting specific criteria, using `astroquery` and `astropy`."
      ],
      "metadata": {
        "id": "ZcvZ0kwqpcqp"
      }
    },
    {
      "cell_type": "code",
      "source": [
        "from astroquery.sdss import SDSS\n",
        "from astropy.table import Table\n",
        "\n",
        "# Define the SQL query to retrieve photometric redshift data\n",
        "query = \"\"\"\n",
        "SELECT TOP 5000\n",
        "    p.objID,\n",
        "    p.ra,\n",
        "    p.dec,\n",
        "    p.u, p.g, p.r, p.i, p.z,\n",
        "    z.z as photometric_redshift,\n",
        "    z.zErr as photometric_redshift_error\n",
        "FROM PhotoObj AS p\n",
        "JOIN Photoz AS z ON p.objID = z.objID\n",
        "WHERE z.z BETWEEN 0.0 AND 1.0\n",
        "AND p.u BETWEEN 14 AND 22\n",
        "AND p.g BETWEEN 14 AND 22\n",
        "AND p.r BETWEEN 14 AND 22\n",
        "AND p.i BETWEEN 14 AND 22\n",
        "AND p.z BETWEEN 14 AND 22\n",
        "AND z.photoErrorClass = 1\n",
        "\"\"\"\n",
        "\n",
        "# Execute the query\n",
        "result = SDSS.query_sql(query)\n",
        "\n",
        "# Check if the result is not None\n",
        "if result:\n",
        "    # Convert the result to an Astropy Table\n",
        "    data_table = Table(result)\n",
        "    # Display the first few rows\n",
        "    print(data_table[:5])\n",
        "else:\n",
        "    print(\"No data retrieved from the query.\")\n"
      ],
      "metadata": {
        "colab": {
          "base_uri": "https://localhost:8080/"
        },
        "id": "IEC-G_DDKzm0",
        "outputId": "2491e77a-147b-4a4b-90d7-a7d96496cc24"
      },
      "execution_count": 44,
      "outputs": [
        {
          "output_type": "stream",
          "name": "stdout",
          "text": [
            "       objID               ra        ... photometric_redshift photometric_redshift_error\n",
            "------------------- ---------------- ... -------------------- --------------------------\n",
            "1237645877936062584 338.887713403781 ...             0.206023                   0.030376\n",
            "1237645877936062624 338.898710898408 ...             0.266436                   0.045843\n",
            "1237645879551066147 348.921261895345 ...             0.094058                   0.068553\n",
            "1237645879551066262 348.902530171573 ...             0.114422                   0.021447\n",
            "1237645879562862826 15.9391399488899 ...               0.0931                   0.040405\n"
          ]
        }
      ]
    },
    {
      "cell_type": "markdown",
      "source": [
        "Similarly, the following code queries the SDSS database for photometric redshift data of up to 50,000 objects that meet specific magnitude and redshift criteria, ensuring quality by filtering based on error class. The retrieved data includes object IDs, positions (RA and Dec), photometric magnitudes in five bands (u, g, r, i, z), redshift values, and their errors. The results are converted into an Astropy Table, saved to a CSV file named `sdss_photometric_redshift_data.csv`, and a preview of the first few rows is printed. If no data is retrieved, it notifies the user."
      ],
      "metadata": {
        "id": "pENuVW3EprJa"
      }
    },
    {
      "cell_type": "code",
      "source": [
        "from astroquery.sdss import SDSS\n",
        "from astropy.table import Table\n",
        "\n",
        "# Define the SQL query to retrieve photometric redshift data\n",
        "query = \"\"\"\n",
        "SELECT TOP 50000\n",
        "    p.objID,\n",
        "    p.ra,\n",
        "    p.dec,\n",
        "    p.u, p.g, p.r, p.i, p.z,\n",
        "    z.z as photometric_redshift,\n",
        "    z.zErr as photometric_redshift_error\n",
        "FROM PhotoObj AS p\n",
        "JOIN Photoz AS z ON p.objID = z.objID\n",
        "WHERE z.z BETWEEN 0.0 AND 1.0\n",
        "AND p.u BETWEEN 14 AND 22\n",
        "AND p.g BETWEEN 14 AND 22\n",
        "AND p.r BETWEEN 14 AND 22\n",
        "AND p.i BETWEEN 14 AND 22\n",
        "AND p.z BETWEEN 14 AND 22\n",
        "AND z.photoErrorClass = 1\n",
        "\"\"\"\n",
        "\n",
        "# Execute the query\n",
        "result = SDSS.query_sql(query)\n",
        "\n",
        "# Check if the result is not None\n",
        "if result:\n",
        "    # Convert the result to an Astropy Table\n",
        "    data_table = Table(result)\n",
        "\n",
        "    # Save the data to a CSV file\n",
        "    csv_filename = \"sdss_photometric_redshift_data.csv\"\n",
        "    data_table.write(csv_filename, format='csv', overwrite=True)\n",
        "\n",
        "    # Display the first few rows\n",
        "    print(f\"Data successfully saved to {csv_filename}\")\n",
        "    print(data_table[:5])\n",
        "else:\n",
        "    print(\"No data retrieved from the query.\")\n"
      ],
      "metadata": {
        "colab": {
          "base_uri": "https://localhost:8080/"
        },
        "id": "u9QuvpiupOGa",
        "outputId": "f67dab1e-0e51-4104-eefc-31a4ca498321"
      },
      "execution_count": 49,
      "outputs": [
        {
          "output_type": "stream",
          "name": "stdout",
          "text": [
            "Data successfully saved to sdss_photometric_redshift_data.csv\n",
            "       objID               ra        ... photometric_redshift photometric_redshift_error\n",
            "------------------- ---------------- ... -------------------- --------------------------\n",
            "1237645877936062584 338.887713403781 ...             0.206023                   0.030376\n",
            "1237645877936062624 338.898710898408 ...             0.266436                   0.045843\n",
            "1237645879551066147 348.921261895345 ...             0.094058                   0.068553\n",
            "1237645879551066262 348.902530171573 ...             0.114422                   0.021447\n",
            "1237645879562862826 15.9391399488899 ...               0.0931                   0.040405\n"
          ]
        }
      ]
    },
    {
      "cell_type": "markdown",
      "source": [
        "The following code queries the SDSS database to retrieve photometric redshift data for 5,000 objects that meet specific quality and magnitude criteria. It selects object IDs, sky positions (RA and Dec), model magnitudes in five bands (u, g, r, i, z), photometric redshift values, and associated errors. The query filters objects with clean data flags (`p.clean = 1`) and high-quality photometric redshift classifications (`z.photoErrorClass = 1`). The retrieved data is converted to an Astropy Table and displays the first few rows if successful, otherwise notifies the user of no results."
      ],
      "metadata": {
        "id": "IRcOoi5hqDgc"
      }
    },
    {
      "cell_type": "code",
      "source": [
        "from astroquery.sdss import SDSS\n",
        "from astropy.table import Table\n",
        "\n",
        "# Define the SQL query to retrieve photometric redshift data\n",
        "query = \"\"\"\n",
        "SELECT TOP 5000\n",
        "    p.objID,\n",
        "    p.ra,\n",
        "    p.dec,\n",
        "    p.modelMag_u,\n",
        "    p.modelMag_g,\n",
        "    p.modelMag_r,\n",
        "    p.modelMag_i,\n",
        "    p.modelMag_z,\n",
        "    z.z as photometric_redshift,\n",
        "    z.zErr as photometric_redshift_error\n",
        "FROM PhotoObjAll AS p\n",
        "JOIN Photoz AS z ON p.objID = z.objID\n",
        "WHERE z.z BETWEEN 0.0 AND 1.0\n",
        "AND p.modelMag_u BETWEEN 14 AND 22\n",
        "AND p.modelMag_g BETWEEN 14 AND 22\n",
        "AND p.modelMag_r BETWEEN 14 AND 22\n",
        "AND p.modelMag_i BETWEEN 14 AND 22\n",
        "AND p.modelMag_z BETWEEN 14 AND 22\n",
        "AND p.clean = 1\n",
        "AND z.photoErrorClass = 1\n",
        "\"\"\"\n",
        "\n",
        "# Execute the query\n",
        "result = SDSS.query_sql(query)\n",
        "\n",
        "# Check if the result is not None\n",
        "if result:\n",
        "    # Convert the result to an Astropy Table\n",
        "    data_table = Table(result)\n",
        "\n",
        "    # Save the data to a CSV file\n",
        "    csv_filename = \"sdss_photometric_redshift_data_modelMag.csv\"\n",
        "    data_table.write(csv_filename, format='csv', overwrite=True)\n",
        "\n",
        "    # Display a success message and the first few rows\n",
        "    print(f\"Data successfully saved to {csv_filename}\")\n",
        "    print(data_table[:5])\n",
        "else:\n",
        "    print(\"No data retrieved from the query.\")\n"
      ],
      "metadata": {
        "colab": {
          "base_uri": "https://localhost:8080/"
        },
        "id": "2NO0L3SbMxUr",
        "outputId": "01e80bd2-5b22-48a9-8a60-9e558a773c9b"
      },
      "execution_count": 51,
      "outputs": [
        {
          "output_type": "stream",
          "name": "stdout",
          "text": [
            "Data successfully saved to sdss_photometric_redshift_data_modelMag.csv\n",
            "       objID               ra        ... photometric_redshift photometric_redshift_error\n",
            "------------------- ---------------- ... -------------------- --------------------------\n",
            "1237645941298102431 64.3957300459601 ...              0.07956                   0.009775\n",
            "1237645941298102449 64.4119553831857 ...             0.091236                    0.01242\n",
            "1237645941298102475 64.4537444010899 ...             0.073075                   0.009604\n",
            "1237645941298102500 64.4968024272139 ...             0.139734                   0.040236\n",
            "1237645941298102538  64.524243988525 ...             0.028741                   0.008589\n"
          ]
        }
      ]
    },
    {
      "cell_type": "code",
      "source": [
        "from astroquery.sdss import SDSS\n",
        "from astropy.table import Table\n",
        "\n",
        "# Define the SQL query to retrieve photometric redshift data\n",
        "query = \"\"\"\n",
        "SELECT TOP 100\n",
        "    p.objID,\n",
        "    p.ra,\n",
        "    p.dec,\n",
        "    p.modelMag_u,\n",
        "    p.modelMag_g,\n",
        "    p.modelMag_r,\n",
        "    p.modelMag_i,\n",
        "    p.modelMag_z,\n",
        "    z.z as photoz,\n",
        "    z.zErr as photoz_err,\n",
        "    z.absMagR as abs_mag_r\n",
        "FROM\n",
        "    PhotoObj AS p\n",
        "JOIN\n",
        "    Photoz AS z ON p.objID = z.objID\n",
        "WHERE\n",
        "    z.photoErrorClass = 1\n",
        "    AND z.z BETWEEN 0.4 AND 0.5\n",
        "\"\"\"\n",
        "\n",
        "# Execute the query\n",
        "results = SDSS.query_sql(query)\n",
        "\n",
        "# Check if results are returned\n",
        "if results:\n",
        "    # Convert to an Astropy Table for better handling\n",
        "    data_table = Table(results)\n",
        "\n",
        "    # Save the data to a CSV file\n",
        "    csv_filename = \"sdss_photoz_abs_mag_data.csv\"\n",
        "    data_table.write(csv_filename, format=\"csv\", overwrite=True)\n",
        "\n",
        "    # Display success message and the first few rows\n",
        "    print(f\"Data successfully saved to {csv_filename}\")\n",
        "    print(data_table[:5])\n",
        "else:\n",
        "    print(\"No results found.\")\n"
      ],
      "metadata": {
        "colab": {
          "base_uri": "https://localhost:8080/"
        },
        "id": "S2dtcRpMK8no",
        "outputId": "0093b423-73e8-42a5-c168-e102d4914be9"
      },
      "execution_count": 53,
      "outputs": [
        {
          "output_type": "stream",
          "name": "stdout",
          "text": [
            "Data successfully saved to sdss_photoz_abs_mag_data.csv\n",
            "       objID               ra              dec        modelMag_u ...  photoz  photoz_err abs_mag_r\n",
            "------------------- ---------------- ---------------- ---------- ... -------- ---------- ---------\n",
            "1237645879562863248 15.9482959674584 1.26579874000259   23.62217 ... 0.401557   0.116573   -21.378\n",
            "1237645879573873023 40.9941745132484 1.27033116549725   26.30372 ... 0.422573   0.035218  -21.6833\n",
            "1237645879573873373 41.0196126806213 1.27127864890579   22.64928 ... 0.487843   0.041076  -22.3435\n",
            "1237645879576363371 46.6981075126926 1.27216992906207   21.94963 ...  0.47119    0.07244  -22.0614\n",
            "1237645879576363417 46.7244460716351 1.27084094094445   21.56704 ... 0.409254   0.106822  -21.4955\n"
          ]
        }
      ]
    },
    {
      "cell_type": "code",
      "source": [
        "from astroquery.sdss import SDSS\n",
        "from astropy.table import Table\n",
        "\n",
        "# Define the SQL query to retrieve photometric redshift data\n",
        "query = \"\"\"\n",
        "SELECT TOP 100\n",
        "    p.objID,\n",
        "    p.ra,\n",
        "    p.dec,\n",
        "    p.modelMag_u,\n",
        "    p.modelMag_g,\n",
        "    p.modelMag_r,\n",
        "    p.modelMag_i,\n",
        "    p.modelMag_z,\n",
        "    z.z as photoz,\n",
        "    z.zErr as photoz_err\n",
        "FROM\n",
        "    PhotoObj AS p\n",
        "JOIN\n",
        "    Photoz AS z ON p.objID = z.objID\n",
        "WHERE\n",
        "    z.z BETWEEN 0.4 AND 0.5\n",
        "    AND z.photoErrorClass = 1\n",
        "\"\"\"\n",
        "\n",
        "# Execute the query\n",
        "results = SDSS.query_sql(query)\n",
        "\n",
        "# Check if results are returned\n",
        "if results:\n",
        "    # Convert to an Astropy Table for better handling\n",
        "    data_table = Table(results)\n",
        "\n",
        "    # Save the data to a CSV file\n",
        "    csv_filename = \"sdss_photoz_data.csv\"\n",
        "    data_table.write(csv_filename, format=\"csv\", overwrite=True)\n",
        "\n",
        "    # Display success message and the first few rows\n",
        "    print(f\"Data successfully saved to {csv_filename}\")\n",
        "    print(data_table[:5])\n",
        "else:\n",
        "    print(\"No results found.\")\n"
      ],
      "metadata": {
        "colab": {
          "base_uri": "https://localhost:8080/"
        },
        "id": "mjgmyKFXK_a-",
        "outputId": "4e7e894c-b963-4815-aeb6-9e143f1c592e"
      },
      "execution_count": 54,
      "outputs": [
        {
          "output_type": "stream",
          "name": "stdout",
          "text": [
            "Data successfully saved to sdss_photoz_data.csv\n",
            "       objID               ra              dec        modelMag_u ... modelMag_z  photoz  photoz_err\n",
            "------------------- ---------------- ---------------- ---------- ... ---------- -------- ----------\n",
            "1237645879562863248 15.9482959674584 1.26579874000259   23.62217 ...   19.86139 0.401557   0.116573\n",
            "1237645879573873023 40.9941745132484 1.27033116549725   26.30372 ...   19.12551 0.422573   0.035218\n",
            "1237645879573873373 41.0196126806213 1.27127864890579   22.64928 ...   19.20975 0.487843   0.041076\n",
            "1237645879576363371 46.6981075126926 1.27216992906207   21.94963 ...   19.38143  0.47119    0.07244\n",
            "1237645879576363417 46.7244460716351 1.27084094094445   21.56704 ...   19.44385 0.409254   0.106822\n"
          ]
        }
      ]
    },
    {
      "cell_type": "code",
      "source": [
        "from astroquery.sdss import SDSS\n",
        "from astropy import coordinates as coord\n",
        "import astropy.units as u\n",
        "import pandas as pd\n",
        "\n",
        "# Define the sky region of interest\n",
        "ra = 180.0  # Right Ascension in degrees\n",
        "dec = 0.0   # Declination in degrees\n",
        "radius = 2 * u.arcmin  # Search radius\n",
        "\n",
        "# Create a SkyCoord object\n",
        "sky_coord = coord.SkyCoord(ra=ra, dec=dec, frame='icrs', unit=(u.deg, u.deg))\n",
        "\n",
        "# Query SDSS for photometric data\n",
        "try:\n",
        "    # Fetch data from the PhotoObjAll table (DR16 as an example)\n",
        "    photometric_data = SDSS.query_region(\n",
        "        sky_coord,\n",
        "        radius=radius,\n",
        "        data_release=16,  # Specify the SDSS data release\n",
        "        photoobj_fields=['objid', 'ra', 'dec', 'u', 'g', 'r', 'i', 'z',\n",
        "                         'modelMag_u', 'modelMag_g', 'modelMag_r', 'modelMag_i', 'modelMag_z']\n",
        "    )\n",
        "\n",
        "    # Check if any data was retrieved\n",
        "    if photometric_data:\n",
        "        # Convert the result to a pandas DataFrame\n",
        "        df = photometric_data.to_pandas()\n",
        "\n",
        "        # Display the first few rows\n",
        "        print(\"Retrieved Photometric Data:\")\n",
        "        print(df.head())\n",
        "\n",
        "        # Save the data to a CSV file\n",
        "        csv_filename = 'sdss_photometric_data.csv'\n",
        "        df.to_csv(csv_filename, index=False)\n",
        "        print(f\"Data successfully saved to {csv_filename}\")\n",
        "    else:\n",
        "        print(\"No objects found in the specified region.\")\n",
        "except Exception as e:\n",
        "    print(f\"An error occurred: {e}\")\n"
      ],
      "metadata": {
        "colab": {
          "base_uri": "https://localhost:8080/"
        },
        "id": "gwrZ-jfVq0G8",
        "outputId": "7844d304-ba3d-4e40-9e6c-b9c47a6e31f4"
      },
      "execution_count": 52,
      "outputs": [
        {
          "output_type": "stream",
          "name": "stdout",
          "text": [
            "Retrieved Photometric Data:\n",
            "                 objid          ra       dec         u         g         r  \\\n",
            "0  1237648721230758388  179.998278 -0.002105  23.98372  21.82411  20.41531   \n",
            "1  1237674650465534823  179.998275 -0.002126  25.50596  21.83662  20.40935   \n",
            "2  1237674650465599818  179.998272 -0.002124  25.60984  21.81847  20.40707   \n",
            "3  1237648673967309242  179.998293 -0.002104  23.91517  21.92753  20.51980   \n",
            "4  1237648704575570383  179.998304 -0.002112  23.66071  21.88428  20.38383   \n",
            "\n",
            "          i         z  modelMag_u  modelMag_g  modelMag_r  modelMag_i  \\\n",
            "0  19.90866  19.53479    23.98372    21.82411    20.41531    19.90866   \n",
            "1  19.83862  19.38175    25.50596    21.83662    20.40935    19.83862   \n",
            "2  19.81917  19.33022    25.60984    21.81847    20.40707    19.81917   \n",
            "3  19.85290  19.49378    23.91517    21.92753    20.51980    19.85290   \n",
            "4  19.94424  19.34975    23.66071    21.88428    20.38383    19.94424   \n",
            "\n",
            "   modelMag_z  \n",
            "0    19.53479  \n",
            "1    19.38175  \n",
            "2    19.33022  \n",
            "3    19.49378  \n",
            "4    19.34975  \n",
            "Data successfully saved to sdss_photometric_data.csv\n"
          ]
        }
      ]
    }
  ]
}